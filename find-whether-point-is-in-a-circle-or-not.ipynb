{
 "cells": [
  {
   "cell_type": "markdown",
   "metadata": {},
   "source": [
    "# Problem 2: Find if a given 2D point is inside or outside a circle "
   ]
  },
  {
   "cell_type": "code",
   "execution_count": 1,
   "metadata": {},
   "outputs": [],
   "source": [
    "import math"
   ]
  },
  {
   "cell_type": "code",
   "execution_count": 2,
   "metadata": {},
   "outputs": [
    {
     "name": "stdout",
     "output_type": "stream",
     "text": [
      "Enter Cx, Cy, Radius: \n",
      "1 6 8\n"
     ]
    }
   ],
   "source": [
    "print(\"Enter Cx, Cy, Radius: \") # Take input point C as a center of a circle and radius of a circle\n",
    "\n",
    "x1,y1,radius = input().split()"
   ]
  },
  {
   "cell_type": "code",
   "execution_count": 3,
   "metadata": {},
   "outputs": [
    {
     "name": "stdout",
     "output_type": "stream",
     "text": [
      "Enter Coordinates to be searched: X2, Y2 \n",
      "6 9\n"
     ]
    }
   ],
   "source": [
    "print(\"Enter Coordinates to be searched: X2, Y2 \") # Take input point which we need to find, whether it is inside circle or not\n",
    "x2, y2 = input().split()"
   ]
  },
  {
   "cell_type": "code",
   "execution_count": 4,
   "metadata": {},
   "outputs": [],
   "source": [
    "x1 = float(x1)\n",
    "y1 = float(y1)\n",
    "radius = float(radius)\n",
    "x2 = float(x2)\n",
    "y2 = float(y2)"
   ]
  },
  {
   "cell_type": "code",
   "execution_count": 5,
   "metadata": {},
   "outputs": [
    {
     "data": {
      "text/plain": [
       "5.830951894845301"
      ]
     },
     "execution_count": 5,
     "metadata": {},
     "output_type": "execute_result"
    }
   ],
   "source": [
    "dist = math.sqrt((x2-x1)**2+(y2-y1)**2) # Distance formula to find distance between center and a given point\n",
    "dist"
   ]
  },
  {
   "cell_type": "code",
   "execution_count": 6,
   "metadata": {},
   "outputs": [
    {
     "name": "stdout",
     "output_type": "stream",
     "text": [
      "point is inside the circle\n"
     ]
    }
   ],
   "source": [
    "if dist<radius:\n",
    "    print(\"point is inside the circle\")\n",
    "elif dist == radius:\n",
    "    print(\"point is on the circle\")\n",
    "else:\n",
    "    print(\"point is outside the circle\")"
   ]
  },
  {
   "cell_type": "code",
   "execution_count": null,
   "metadata": {},
   "outputs": [],
   "source": []
  }
 ],
 "metadata": {
  "kernelspec": {
   "display_name": "Python 3",
   "language": "python",
   "name": "python3"
  },
  "language_info": {
   "codemirror_mode": {
    "name": "ipython",
    "version": 3
   },
   "file_extension": ".py",
   "mimetype": "text/x-python",
   "name": "python",
   "nbconvert_exporter": "python",
   "pygments_lexer": "ipython3",
   "version": "3.8.3"
  }
 },
 "nbformat": 4,
 "nbformat_minor": 4
}
